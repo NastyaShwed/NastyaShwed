{
  "nbformat": 4,
  "nbformat_minor": 0,
  "metadata": {
    "colab": {
      "name": "Копия блокнота \"Копия блокнота \"For_Stasya.ipynb\"\"",
      "provenance": [],
      "collapsed_sections": [],
      "include_colab_link": true
    },
    "kernelspec": {
      "name": "python3",
      "display_name": "Python 3"
    },
    "language_info": {
      "name": "python"
    }
  },
  "cells": [
    {
      "cell_type": "markdown",
      "metadata": {
        "id": "view-in-github",
        "colab_type": "text"
      },
      "source": [
        "<a href=\"https://colab.research.google.com/github/NastyaShwed/NastyaShwed/blob/master/%D0%9A%D0%BE%D0%BF%D0%B8%D1%8F_%D0%B1%D0%BB%D0%BE%D0%BA%D0%BD%D0%BE%D1%82%D0%B0_%22%D0%9A%D0%BE%D0%BF%D0%B8%D1%8F_%D0%B1%D0%BB%D0%BE%D0%BA%D0%BD%D0%BE%D1%82%D0%B0_%22For_Stasya_ipynb%22%22.ipynb\" target=\"_parent\"><img src=\"https://colab.research.google.com/assets/colab-badge.svg\" alt=\"Open In Colab\"/></a>"
      ]
    },
    {
      "cell_type": "code",
      "source": [
        "array = [int(x) for x in input(\"Введите числа от 1 до 999 в любом порядке, через пробел: \").split()]\n",
        "\n",
        "def merge_sort(array):  # \"разделяй\"\n",
        "    if len(array) < 2:  # если кусок массива равен 2,\n",
        "        return array[:]  # выход из рекурсии\n",
        "    else:\n",
        "        middle = len(array) // 2  # ищем середину\n",
        "        left = merge_sort(array[:middle])  # рекурсивно делим левую часть\n",
        "        right = merge_sort(array[middle:])  # и правую\n",
        "        return merge(left, right)  # выполняем слияние\n",
        "\n",
        "\n",
        "def merge(left, right):\n",
        "    result = []\n",
        "    i, j = 0, 0\n",
        "\n",
        "    while i < len(left) and j < len(right):\n",
        "        if left[i] < right[j]:\n",
        "            result.append(left[i])\n",
        "            i += 1\n",
        "        else:\n",
        "            result.append(right[j])\n",
        "            j += 1\n",
        "\n",
        "    while i < len(left):\n",
        "        result.append(left[i])\n",
        "        i += 1\n",
        "\n",
        "    while j < len(right):\n",
        "        result.append(right[j])\n",
        "        j += 1\n",
        "\n",
        "    return result\n",
        "\n",
        "print(merge_sort(array))\n",
        "\n",
        "\n",
        "def binary_search(array, element, left, right):\n",
        "    if left > right:  # если левая граница превысила правую,\n",
        "        return False  # значит элемент отсутствует\n",
        "\n",
        "    middle = (right + left) // 2  # находимо середину\n",
        "    if array[middle] == element:  # если элемент в середине,\n",
        "        return middle  # возвращаем этот индекс\n",
        "    elif element < array[middle]:  # если элемент меньше элемента в середине\n",
        "        # рекурсивно ищем в левой половине\n",
        "        return binary_search(array, element, left, middle - 1)\n",
        "    else:  # иначе в правой\n",
        "        return binary_search(array, element, middle + 1, right)\n",
        "\n",
        "\n",
        "while True:\n",
        "    try:\n",
        "        element = int(input(\"Введите число от 1 до 999: \"))\n",
        "        if element < 0 or element > 999:\n",
        "            raise Exception\n",
        "        break\n",
        "    except ValueError:\n",
        "        print(\"Нужно ввести число!\")\n",
        "    except Exception:\n",
        "        print(\"Неправильный диапазон!\")\n",
        "\n",
        "\n",
        "print(binary_search(array, element, 0,  len(array)))"
      ],
      "metadata": {
        "id": "y0nKqXt7CclW"
      },
      "execution_count": null,
      "outputs": []
    }
  ]
}